{
 "cells": [
  {
   "cell_type": "code",
   "execution_count": null,
   "metadata": {},
   "outputs": [],
   "source": []
  },
  {
   "attachments": {},
   "cell_type": "markdown",
   "metadata": {},
   "source": [
    "### stemming of text & selecting only nouns with NLP python lib"
   ]
  },
  {
   "attachments": {},
   "cell_type": "markdown",
   "metadata": {},
   "source": [
    "#### stemming"
   ]
  },
  {
   "cell_type": "code",
   "execution_count": 1,
   "metadata": {},
   "outputs": [
    {
     "name": "stdout",
     "output_type": "stream",
     "text": [
      "program  :  program\n",
      "programs  :  program\n",
      "programmer  :  programm\n",
      "programming  :  program\n",
      "programmers  :  programm\n"
     ]
    }
   ],
   "source": [
    "\n",
    "# import these modules\n",
    "from nltk.stem import PorterStemmer\n",
    "from nltk.tokenize import word_tokenize\n",
    "  \n",
    "ps = PorterStemmer()\n",
    "  \n",
    "# choose some words to be stemmed\n",
    "words = [\"program\", \"programs\", \"programmer\", \"programming\", \"programmers\"]\n",
    "  \n",
    "for w in words:\n",
    "    print(w, \" : \", ps.stem(w))"
   ]
  },
  {
   "cell_type": "code",
   "execution_count": 2,
   "metadata": {},
   "outputs": [
    {
     "data": {
      "text/plain": [
       "['programmer', 'are', 'programming', 'some', 'software']"
      ]
     },
     "execution_count": 2,
     "metadata": {},
     "output_type": "execute_result"
    }
   ],
   "source": [
    "word_tokenize('programmer are programming some software')"
   ]
  },
  {
   "attachments": {},
   "cell_type": "markdown",
   "metadata": {},
   "source": [
    "POS tagging"
   ]
  },
  {
   "cell_type": "code",
   "execution_count": 11,
   "metadata": {},
   "outputs": [],
   "source": [
    "from nltk.tag import pos_tag\n",
    "import nltk\n",
    "from nltk import word_tokenize\n",
    "# text = \"This is one simple example.\"\n",
    "text = \"I'd have a greate idea.\"\n",
    "tokens = word_tokenize(text)\n",
    "tags = pos_tag(tokens)"
   ]
  },
  {
   "cell_type": "code",
   "execution_count": 13,
   "metadata": {},
   "outputs": [
    {
     "data": {
      "text/plain": [
       "[('I', 'PRP'),\n",
       " (\"'d\", 'MD'),\n",
       " ('have', 'VB'),\n",
       " ('a', 'DT'),\n",
       " ('greate', 'NN'),\n",
       " ('idea', 'NN'),\n",
       " ('.', '.')]"
      ]
     },
     "execution_count": 13,
     "metadata": {},
     "output_type": "execute_result"
    }
   ],
   "source": [
    "tags"
   ]
  },
  {
   "cell_type": "code",
   "execution_count": 18,
   "metadata": {},
   "outputs": [],
   "source": [
    "# pos_tag(word_tokenize(\"John's big idea isn't all that bad.\"), tagset='universal')"
   ]
  },
  {
   "cell_type": "code",
   "execution_count": 16,
   "metadata": {},
   "outputs": [
    {
     "name": "stdout",
     "output_type": "stream",
     "text": [
      "showing info https://raw.githubusercontent.com/nltk/nltk_data/gh-pages/index.xml\n"
     ]
    },
    {
     "data": {
      "text/plain": [
       "True"
      ]
     },
     "execution_count": 16,
     "metadata": {},
     "output_type": "execute_result"
    }
   ],
   "source": [
    "nltk.download()"
   ]
  },
  {
   "cell_type": "code",
   "execution_count": 5,
   "metadata": {},
   "outputs": [],
   "source": [
    "import pandas as pd"
   ]
  },
  {
   "cell_type": "code",
   "execution_count": 6,
   "metadata": {},
   "outputs": [],
   "source": [
    "df = pd.read_csv('../selenium-web-proj/Job_Analysis_linkedin/output/cleaned/berlin_21-01-2023.csv')"
   ]
  },
  {
   "cell_type": "code",
   "execution_count": 8,
   "metadata": {},
   "outputs": [
    {
     "data": {
      "text/html": [
       "<div>\n",
       "<style scoped>\n",
       "    .dataframe tbody tr th:only-of-type {\n",
       "        vertical-align: middle;\n",
       "    }\n",
       "\n",
       "    .dataframe tbody tr th {\n",
       "        vertical-align: top;\n",
       "    }\n",
       "\n",
       "    .dataframe thead th {\n",
       "        text-align: right;\n",
       "    }\n",
       "</style>\n",
       "<table border=\"1\" class=\"dataframe\">\n",
       "  <thead>\n",
       "    <tr style=\"text-align: right;\">\n",
       "      <th></th>\n",
       "      <th>0</th>\n",
       "      <th>1</th>\n",
       "    </tr>\n",
       "  </thead>\n",
       "  <tbody>\n",
       "    <tr>\n",
       "      <th>date_time</th>\n",
       "      <td>22Jan2023-02:37:11</td>\n",
       "      <td>22Jan2023-02:37:13</td>\n",
       "    </tr>\n",
       "    <tr>\n",
       "      <th>search_keyword</th>\n",
       "      <td>data analyst</td>\n",
       "      <td>data analyst</td>\n",
       "    </tr>\n",
       "    <tr>\n",
       "      <th>search_count</th>\n",
       "      <td>2634</td>\n",
       "      <td>2634</td>\n",
       "    </tr>\n",
       "    <tr>\n",
       "      <th>job_id</th>\n",
       "      <td>2720243949</td>\n",
       "      <td>3258595388</td>\n",
       "    </tr>\n",
       "    <tr>\n",
       "      <th>job_title</th>\n",
       "      <td>Praktikant/Werkstudent Data Analytics and Busi...</td>\n",
       "      <td>Junior Consultant Technology (m/w/d) in Berlin</td>\n",
       "    </tr>\n",
       "    <tr>\n",
       "      <th>job_link</th>\n",
       "      <td>https://www.linkedin.com/jobs/view/2720243949/...</td>\n",
       "      <td>https://www.linkedin.com/jobs/view/3258595388/...</td>\n",
       "    </tr>\n",
       "    <tr>\n",
       "      <th>company_name</th>\n",
       "      <td>PwC Deutschland</td>\n",
       "      <td>BearingPoint</td>\n",
       "    </tr>\n",
       "    <tr>\n",
       "      <th>company_link</th>\n",
       "      <td>https://www.linkedin.com/jobs/search/?currentJ...</td>\n",
       "      <td>https://www.linkedin.com/jobs/search/?currentJ...</td>\n",
       "    </tr>\n",
       "    <tr>\n",
       "      <th>location</th>\n",
       "      <td>Berlin, Berlin, Germany</td>\n",
       "      <td>Berlin, Berlin, Germany</td>\n",
       "    </tr>\n",
       "    <tr>\n",
       "      <th>remote</th>\n",
       "      <td>On-site</td>\n",
       "      <td>On-site</td>\n",
       "    </tr>\n",
       "    <tr>\n",
       "      <th>update_time</th>\n",
       "      <td>2 weeks ago</td>\n",
       "      <td>6 days ago</td>\n",
       "    </tr>\n",
       "    <tr>\n",
       "      <th>applicants</th>\n",
       "      <td>NaN</td>\n",
       "      <td>NaN</td>\n",
       "    </tr>\n",
       "    <tr>\n",
       "      <th>job_pay</th>\n",
       "      <td>NaN</td>\n",
       "      <td>NaN</td>\n",
       "    </tr>\n",
       "    <tr>\n",
       "      <th>job_time</th>\n",
       "      <td>Full-time</td>\n",
       "      <td>Full-time</td>\n",
       "    </tr>\n",
       "    <tr>\n",
       "      <th>job_position</th>\n",
       "      <td>Internship</td>\n",
       "      <td>Entry level</td>\n",
       "    </tr>\n",
       "    <tr>\n",
       "      <th>company_size</th>\n",
       "      <td>10,001+ employees</td>\n",
       "      <td>1,001-5,000 employees</td>\n",
       "    </tr>\n",
       "    <tr>\n",
       "      <th>company_industry</th>\n",
       "      <td>Business Consulting and Services</td>\n",
       "      <td>Business Consulting and Services</td>\n",
       "    </tr>\n",
       "    <tr>\n",
       "      <th>job_details</th>\n",
       "      <td>Deine Aufgaben  Expertise aufbauen - Du sammel...</td>\n",
       "      <td>Ihre Aufgaben:  In unserer stark wachsenden Se...</td>\n",
       "    </tr>\n",
       "    <tr>\n",
       "      <th>lang</th>\n",
       "      <td>de</td>\n",
       "      <td>de</td>\n",
       "    </tr>\n",
       "  </tbody>\n",
       "</table>\n",
       "</div>"
      ],
      "text/plain": [
       "                                                                  0  \\\n",
       "date_time                                        22Jan2023-02:37:11   \n",
       "search_keyword                                         data analyst   \n",
       "search_count                                                   2634   \n",
       "job_id                                                   2720243949   \n",
       "job_title         Praktikant/Werkstudent Data Analytics and Busi...   \n",
       "job_link          https://www.linkedin.com/jobs/view/2720243949/...   \n",
       "company_name                                        PwC Deutschland   \n",
       "company_link      https://www.linkedin.com/jobs/search/?currentJ...   \n",
       "location                                    Berlin, Berlin, Germany   \n",
       "remote                                                      On-site   \n",
       "update_time                                             2 weeks ago   \n",
       "applicants                                                      NaN   \n",
       "job_pay                                                         NaN   \n",
       "job_time                                                  Full-time   \n",
       "job_position                                             Internship   \n",
       "company_size                                      10,001+ employees   \n",
       "company_industry                   Business Consulting and Services   \n",
       "job_details       Deine Aufgaben  Expertise aufbauen - Du sammel...   \n",
       "lang                                                             de   \n",
       "\n",
       "                                                                  1  \n",
       "date_time                                        22Jan2023-02:37:13  \n",
       "search_keyword                                         data analyst  \n",
       "search_count                                                   2634  \n",
       "job_id                                                   3258595388  \n",
       "job_title            Junior Consultant Technology (m/w/d) in Berlin  \n",
       "job_link          https://www.linkedin.com/jobs/view/3258595388/...  \n",
       "company_name                                           BearingPoint  \n",
       "company_link      https://www.linkedin.com/jobs/search/?currentJ...  \n",
       "location                                    Berlin, Berlin, Germany  \n",
       "remote                                                      On-site  \n",
       "update_time                                              6 days ago  \n",
       "applicants                                                      NaN  \n",
       "job_pay                                                         NaN  \n",
       "job_time                                                  Full-time  \n",
       "job_position                                            Entry level  \n",
       "company_size                                  1,001-5,000 employees  \n",
       "company_industry                   Business Consulting and Services  \n",
       "job_details       Ihre Aufgaben:  In unserer stark wachsenden Se...  \n",
       "lang                                                             de  "
      ]
     },
     "execution_count": 8,
     "metadata": {},
     "output_type": "execute_result"
    }
   ],
   "source": [
    "df.head(2).T"
   ]
  },
  {
   "cell_type": "code",
   "execution_count": 9,
   "metadata": {},
   "outputs": [],
   "source": [
    "sample_4 = df['job_details'][4]"
   ]
  },
  {
   "cell_type": "code",
   "execution_count": 10,
   "metadata": {},
   "outputs": [],
   "source": [
    "from nltk.tag import pos_tag\n",
    "import nltk\n",
    "from nltk import word_tokenize\n"
   ]
  },
  {
   "cell_type": "code",
   "execution_count": 11,
   "metadata": {},
   "outputs": [],
   "source": [
    "# nltk.download('stopwords')"
   ]
  },
  {
   "cell_type": "code",
   "execution_count": 12,
   "metadata": {},
   "outputs": [],
   "source": [
    "from nltk.corpus import stopwords\n",
    "# print(stopwords.words('english'))\n",
    "stop_words = set(stopwords.words('english'))"
   ]
  },
  {
   "cell_type": "code",
   "execution_count": null,
   "metadata": {},
   "outputs": [],
   "source": []
  },
  {
   "cell_type": "code",
   "execution_count": 13,
   "metadata": {},
   "outputs": [],
   "source": [
    "# text = \"This is one simple example.\"\n",
    "# text = \"I'd have a greate idea.\"\n",
    "text = sample_4\n",
    "tokens = word_tokenize(text)\n",
    "tags = pos_tag(tokens)"
   ]
  },
  {
   "cell_type": "code",
   "execution_count": null,
   "metadata": {},
   "outputs": [],
   "source": []
  },
  {
   "cell_type": "code",
   "execution_count": 4,
   "metadata": {},
   "outputs": [],
   "source": [
    "# tags"
   ]
  },
  {
   "cell_type": "code",
   "execution_count": 14,
   "metadata": {},
   "outputs": [],
   "source": [
    "nouns = []\n",
    "for t in tags:\n",
    "    if (t[1].startswith('NN')):\n",
    "        # print(t)\n",
    "        nouns.append(t[0])"
   ]
  },
  {
   "cell_type": "code",
   "execution_count": 49,
   "metadata": {},
   "outputs": [],
   "source": [
    "filtered_nouns = [w for w in nouns if not w.lower() in stop_words]"
   ]
  },
  {
   "cell_type": "code",
   "execution_count": 3,
   "metadata": {},
   "outputs": [],
   "source": [
    "# nouns"
   ]
  },
  {
   "cell_type": "code",
   "execution_count": 50,
   "metadata": {},
   "outputs": [
    {
     "data": {
      "text/plain": [
       "118"
      ]
     },
     "execution_count": 50,
     "metadata": {},
     "output_type": "execute_result"
    }
   ],
   "source": [
    "len(filtered_nouns)"
   ]
  },
  {
   "cell_type": "code",
   "execution_count": 2,
   "metadata": {},
   "outputs": [],
   "source": [
    "# stop_words"
   ]
  },
  {
   "cell_type": "code",
   "execution_count": null,
   "metadata": {},
   "outputs": [],
   "source": []
  },
  {
   "attachments": {},
   "cell_type": "markdown",
   "metadata": {},
   "source": [
    "### extract noun phrases"
   ]
  },
  {
   "cell_type": "code",
   "execution_count": 25,
   "metadata": {},
   "outputs": [],
   "source": [
    "def extract_np(psent):\n",
    "  for subtree in psent.subtrees():\n",
    "    if subtree.label() == 'NP':\n",
    "      # yield ' '.join(f'{word}:[{tag}]' for word, tag in subtree.leaves())\n",
    "      yield ' '.join(f'{word}' for word, tag in subtree.leaves())\n",
    "# Define several tag patterns\n",
    "grammar = r\"\"\"\n",
    "    NP: #{<DT|PP\\$>?<JJ>*<NN>}   # chunk determiner/possessive, adjectives and noun\n",
    "    {<NNP>+}                # chunk sequences of proper nouns\n",
    "    {<NN>+}                 # chunk consecutive nouns\n",
    "    \"\"\"\n",
    "\n",
    "cp = nltk.RegexpParser(grammar)"
   ]
  },
  {
   "cell_type": "code",
   "execution_count": 22,
   "metadata": {},
   "outputs": [],
   "source": [
    "import re\n",
    "sample = re.sub('[^a-zA-Z& ]',' ', sample_4)"
   ]
  },
  {
   "cell_type": "code",
   "execution_count": 23,
   "metadata": {},
   "outputs": [],
   "source": [
    "# sentence = \"Michael Jackson likes to eat at McDonalds\"\n",
    "# sentence = sample_4\n",
    "sentence = sample\n",
    "tagged_sent = pos_tag(sentence.split())  "
   ]
  },
  {
   "cell_type": "code",
   "execution_count": 20,
   "metadata": {},
   "outputs": [],
   "source": [
    "# sample_4[0:200]\n",
    "# tagged_sent"
   ]
  },
  {
   "cell_type": "code",
   "execution_count": null,
   "metadata": {},
   "outputs": [],
   "source": []
  },
  {
   "cell_type": "code",
   "execution_count": 28,
   "metadata": {},
   "outputs": [],
   "source": [
    "parsed_sent = cp.parse(tagged_sent)\n",
    "noun_phrases = []\n",
    "for npstr in extract_np(parsed_sent):\n",
    "    # print (npstr)\n",
    "    noun_phrases.append(npstr)"
   ]
  },
  {
   "cell_type": "code",
   "execution_count": 27,
   "metadata": {},
   "outputs": [],
   "source": [
    "# tagged_sent"
   ]
  },
  {
   "cell_type": "code",
   "execution_count": 30,
   "metadata": {},
   "outputs": [],
   "source": [
    "# noun_phrases"
   ]
  },
  {
   "attachments": {},
   "cell_type": "markdown",
   "metadata": {},
   "source": [
    "#### pickle data\n",
    "<p> to make it accessible in other project with neo4j </p>"
   ]
  },
  {
   "cell_type": "code",
   "execution_count": 41,
   "metadata": {},
   "outputs": [],
   "source": [
    "import pickle as pk"
   ]
  },
  {
   "cell_type": "code",
   "execution_count": 38,
   "metadata": {},
   "outputs": [],
   "source": [
    "with open('./wd_pickles/berlin_4.pickled', 'wb') as handle:\n",
    "    pk.dump(noun_phrases, handle, protocol=pk.HIGHEST_PROTOCOL)"
   ]
  },
  {
   "cell_type": "code",
   "execution_count": 39,
   "metadata": {},
   "outputs": [],
   "source": [
    "with open('./wd_pickles/berlin_4.pickled', 'rb') as handle:\n",
    "    d1 = pk.load(handle)"
   ]
  },
  {
   "cell_type": "code",
   "execution_count": null,
   "metadata": {},
   "outputs": [],
   "source": []
  },
  {
   "cell_type": "code",
   "execution_count": null,
   "metadata": {},
   "outputs": [],
   "source": []
  },
  {
   "cell_type": "code",
   "execution_count": 1,
   "metadata": {},
   "outputs": [],
   "source": []
  },
  {
   "cell_type": "code",
   "execution_count": 2,
   "metadata": {},
   "outputs": [
    {
     "ename": "NameError",
     "evalue": "name 'nltk' is not defined",
     "output_type": "error",
     "traceback": [
      "\u001b[0;31m---------------------------------------------------------------------------\u001b[0m",
      "\u001b[0;31mNameError\u001b[0m                                 Traceback (most recent call last)",
      "Cell \u001b[0;32mIn [2], line 2\u001b[0m\n\u001b[1;32m      1\u001b[0m \u001b[39m# nltk.download('tagsets')\u001b[39;00m\n\u001b[0;32m----> 2\u001b[0m nltk\u001b[39m.\u001b[39mhelp\u001b[39m.\u001b[39mupenn_tagset()\n",
      "\u001b[0;31mNameError\u001b[0m: name 'nltk' is not defined"
     ]
    }
   ],
   "source": [
    "# nltk.download('tagsets')\n",
    "nltk.help.upenn_tagset() # shows all tags with description"
   ]
  }
 ],
 "metadata": {
  "kernelspec": {
   "display_name": "Python 3",
   "language": "python",
   "name": "python3"
  },
  "language_info": {
   "codemirror_mode": {
    "name": "ipython",
    "version": 3
   },
   "file_extension": ".py",
   "mimetype": "text/x-python",
   "name": "python",
   "nbconvert_exporter": "python",
   "pygments_lexer": "ipython3",
   "version": "3.10.6"
  },
  "orig_nbformat": 4,
  "vscode": {
   "interpreter": {
    "hash": "916dbcbb3f70747c44a77c7bcd40155683ae19c65e1c03b4aa3499c5328201f1"
   }
  }
 },
 "nbformat": 4,
 "nbformat_minor": 2
}
