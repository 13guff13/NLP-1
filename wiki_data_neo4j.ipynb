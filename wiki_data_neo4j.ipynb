{
 "cells": [
  {
   "cell_type": "code",
   "execution_count": null,
   "metadata": {},
   "outputs": [],
   "source": []
  },
  {
   "attachments": {},
   "cell_type": "markdown",
   "metadata": {},
   "source": [
    "### import graph from wikidata sparql into neo4j"
   ]
  },
  {
   "cell_type": "code",
   "execution_count": 1,
   "metadata": {},
   "outputs": [],
   "source": [
    "import py2neo as pn\n",
    "import pandas as pd"
   ]
  },
  {
   "attachments": {},
   "cell_type": "markdown",
   "metadata": {},
   "source": [
    "#### connect neo4j"
   ]
  },
  {
   "cell_type": "code",
   "execution_count": 2,
   "metadata": {},
   "outputs": [],
   "source": [
    "graph = pn.Graph(\"bolt://localhost:7687\",password=\"monk_neo4j\")"
   ]
  },
  {
   "cell_type": "code",
   "execution_count": 18,
   "metadata": {},
   "outputs": [],
   "source": [
    "# nodes = graph.run(\"MERGE (o:Object {name: 'actor_1'}) RETURN o\")\n",
    "# nodes = graph.run(\"MERGE (o:wd_node {title: 'wd_title_1'}) RETURN o\")\n",
    "# nodes = graph.run(\"MATCH (o:Object {name: 'actor_1'}) DELETE o\") #delete test node\n",
    "# nodes = graph.run(\"MATCH (o:wd_node {title: 'wd_title_1'}) DELETE o\") #delete test node"
   ]
  },
  {
   "cell_type": "code",
   "execution_count": 17,
   "metadata": {},
   "outputs": [],
   "source": []
  },
  {
   "cell_type": "code",
   "execution_count": 16,
   "metadata": {},
   "outputs": [
    {
     "data": {
      "text/html": [
       "<table><tr><th>o</th></tr><tr><td style=\"text-align:left\">(_1:wd_node {title: &#039;wd_title_1&#039;})</td></tr></table>"
      ],
      "text/plain": [
       " o                                  \n",
       "------------------------------------\n",
       " (_1:wd_node {title: 'wd_title_1'}) "
      ]
     },
     "execution_count": 16,
     "metadata": {},
     "output_type": "execute_result"
    }
   ],
   "source": []
  },
  {
   "attachments": {},
   "cell_type": "markdown",
   "metadata": {},
   "source": [
    "#### connect to wikidata sparql API"
   ]
  },
  {
   "cell_type": "code",
   "execution_count": 5,
   "metadata": {},
   "outputs": [],
   "source": [
    "# https://people.wikimedia.org/~bearloga/notes/wdqs-python.html\n",
    "from SPARQLWrapper import SPARQLWrapper, JSON\n",
    "import pandas as pd"
   ]
  },
  {
   "cell_type": "code",
   "execution_count": 7,
   "metadata": {},
   "outputs": [],
   "source": [
    "sparql = SPARQLWrapper(\"https://query.wikidata.org/sparql\")"
   ]
  },
  {
   "cell_type": "code",
   "execution_count": 56,
   "metadata": {},
   "outputs": [],
   "source": [
    "def query_sp_raw(sparql, query):\n",
    "    sparql.setQuery(query)\n",
    "    sparql.setReturnFormat(JSON)\n",
    "    results = sparql.query().convert()\n",
    "    results_df = results['results']['bindings']\n",
    "    return results_df"
   ]
  },
  {
   "cell_type": "code",
   "execution_count": 65,
   "metadata": {},
   "outputs": [],
   "source": [
    "def query_graph(entity_id):\n",
    "    # graph with all subclasses of entity_id\n",
    "    q = f\"\"\"\n",
    "    SELECT ?item ?itemLabel ?linkTo {{\n",
    "        wd:{entity_id} wdt:P279* ?item\n",
    "        OPTIONAL {{ ?item wdt:P279 ?linkTo }}\n",
    "        SERVICE wikibase:label {{ bd:serviceParam wikibase:language 'en' }}\n",
    "    }}\n",
    "    \"\"\"\n",
    "    # print(q)\n",
    "    return query_sp_raw(sparql, q)\n"
   ]
  },
  {
   "cell_type": "code",
   "execution_count": 68,
   "metadata": {},
   "outputs": [],
   "source": [
    "# d1 = query_graph('Q5')\n",
    "# d1"
   ]
  },
  {
   "cell_type": "code",
   "execution_count": 67,
   "metadata": {},
   "outputs": [
    {
     "data": {
      "text/plain": [
       "30"
      ]
     },
     "execution_count": 67,
     "metadata": {},
     "output_type": "execute_result"
    }
   ],
   "source": []
  },
  {
   "cell_type": "code",
   "execution_count": null,
   "metadata": {},
   "outputs": [],
   "source": []
  },
  {
   "cell_type": "code",
   "execution_count": 9,
   "metadata": {},
   "outputs": [],
   "source": [
    "q = \"\"\"\n",
    "PREFIX gas: <http://www.bigdata.com/rdf/gas#>\n",
    "\n",
    "SELECT ?item ?itemLabel ?linkTo {\n",
    "SERVICE gas:service {\n",
    "    gas:program gas:gasClass \"com.bigdata.rdf.graph.analytics.SSSP\" ;\n",
    "                gas:in wd:Q5 ;\n",
    "                gas:traversalDirection \"Forward\" ;\n",
    "                gas:out ?item ;\n",
    "                gas:out1 ?depth ;\n",
    "                gas:maxIterations 10 ;\n",
    "                gas:linkType wdt:P279 .\n",
    "  }\n",
    "OPTIONAL { ?item wdt:P279 ?linkTo }\n",
    "SERVICE wikibase:label {bd:serviceParam wikibase:language \"en\" }\n",
    "} \n",
    "        \"\"\"\n",
    "res = query_sp_raw(sparql, q)\n"
   ]
  },
  {
   "cell_type": "code",
   "execution_count": 52,
   "metadata": {},
   "outputs": [
    {
     "data": {
      "text/plain": [
       "30"
      ]
     },
     "execution_count": 52,
     "metadata": {},
     "output_type": "execute_result"
    }
   ],
   "source": [
    "len(res)"
   ]
  },
  {
   "cell_type": "code",
   "execution_count": 22,
   "metadata": {},
   "outputs": [],
   "source": [
    "# res[0]['item']['value']\n",
    "# res[0]['itemLabel']['value']\n",
    "# res[0]['linkTo']['value']\n",
    "# nodes = graph.run(\"MERGE (o:wd_node {title: 'wd_title_1'}) RETURN o\")"
   ]
  },
  {
   "cell_type": "code",
   "execution_count": 35,
   "metadata": {},
   "outputs": [
    {
     "data": {
      "text/plain": [
       "\" \\n        MERGE (o:wd_node {title: 'jora'}) RETURN o\\n        \\n    \""
      ]
     },
     "execution_count": 35,
     "metadata": {},
     "output_type": "execute_result"
    }
   ],
   "source": [
    "def uri_id(uri):\n",
    "    return uri.split('/')[-1]\n"
   ]
  },
  {
   "cell_type": "code",
   "execution_count": 87,
   "metadata": {},
   "outputs": [
    {
     "data": {
      "text/plain": [
       "\" \\n            MERGE (o:wd_node {id: '1', title: 'tit'})\\n            SET o:2\\n            RETURN o\\n        \""
      ]
     },
     "execution_count": 87,
     "metadata": {},
     "output_type": "execute_result"
    }
   ],
   "source": [
    "subject_title = 'tit'\n",
    "subject_id = 1\n",
    "entity_id = 2\n",
    "neo4j_merge = \"\"\" \n",
    "            MERGE (o:wd_node {{id: '{subject_id}', title: '{subject_title}'}})\n",
    "            SET o:{entity_id}{entity}\n",
    "            RETURN o\n",
    "        \"\"\".format(\n",
    "            subject_id=subject_id, \n",
    "            subject_title=subject_title,\n",
    "            entity_id=entity_id, \n",
    "            entity=':term' if subject_id == entity_id else '')#\n",
    "neo4j_merge"
   ]
  },
  {
   "cell_type": "code",
   "execution_count": null,
   "metadata": {},
   "outputs": [],
   "source": []
  },
  {
   "cell_type": "code",
   "execution_count": 89,
   "metadata": {},
   "outputs": [],
   "source": [
    "def create_graph(res, entity_id):\n",
    "    # entity_id - id of search term (entity)\n",
    "    relation_type = 'subclass_of'# todo: make an argument\n",
    "    for i in res:# create nodes\n",
    "        subject_id = uri_id(i['item']['value'])\n",
    "        subject_title = i['itemLabel']['value']\n",
    "        try:\n",
    "            object_id = uri_id(i['linkTo']['value'])\n",
    "        except Exception as e:\n",
    "            print(f'[error]: {e}')\n",
    "            print(f\"in subject: {subject_title}({subject_id})\")\n",
    "            object_id = None\n",
    "        neo4j_merge = \"\"\" \n",
    "            MERGE (o:wd_node {{id: '{subject_id}', title: '{subject_title}'}})\n",
    "            SET o:{entity_id}{entity}\n",
    "            RETURN o\n",
    "        \"\"\".format(\n",
    "            subject_id=subject_id, \n",
    "            subject_title=subject_title,\n",
    "            entity_id=entity_id, \n",
    "            entity=':search_term' if subject_id == entity_id else '')# info: add entity_id as node-label for furter exploration relations between entities\n",
    "        # print(neo4j_merge)\n",
    "        graph.run(neo4j_merge)\n",
    "        # print(f\"subject: {subject_title}({subject_id}) was added\")\n",
    "    for i in res:# add relations between nodes\n",
    "        subject_id = uri_id(i['item']['value'])\n",
    "        subject_title = i['itemLabel']['value']\n",
    "        try:\n",
    "            object_id = uri_id(i['linkTo']['value'])\n",
    "        except Exception as e:\n",
    "            print(f'[error]: {e}')\n",
    "            object_id = None\n",
    "            continue # don't create relation if there is no object\n",
    "        neo4j_merge = f\"\"\"\n",
    "            MATCH (s:wd_node {{id: '{subject_id}'}})\n",
    "            MATCH (o:wd_node {{id: '{object_id}'}})\n",
    "            MERGE (s)-[:{relation_type}]->(o) RETURN s, o\n",
    "        \"\"\"\n",
    "        # print(neo4j_merge)\n",
    "        graph.run(neo4j_merge)"
   ]
  },
  {
   "cell_type": "code",
   "execution_count": 90,
   "metadata": {},
   "outputs": [
    {
     "name": "stdout",
     "output_type": "stream",
     "text": [
      "[error]: 'linkTo'\n",
      "in subject: entity(Q35120)\n",
      "[error]: 'linkTo'\n",
      "[error]: 'linkTo'\n",
      "in subject: entity(Q35120)\n",
      "[error]: 'linkTo'\n",
      "in subject: predicate(Q4376586)\n",
      "[error]: 'linkTo'\n",
      "[error]: 'linkTo'\n",
      "[error]: 'linkTo'\n",
      "in subject: entity(Q35120)\n",
      "[error]: 'linkTo'\n"
     ]
    }
   ],
   "source": [
    "entity_ids = ['Q5', 'Q3', 'Q47607']\n",
    "for entity_id in entity_ids:\n",
    "    create_graph(query_graph(entity_id), entity_id)"
   ]
  },
  {
   "cell_type": "code",
   "execution_count": null,
   "metadata": {},
   "outputs": [],
   "source": []
  },
  {
   "attachments": {},
   "cell_type": "markdown",
   "metadata": {},
   "source": [
    "#### create nodes"
   ]
  },
  {
   "cell_type": "code",
   "execution_count": 49,
   "metadata": {},
   "outputs": [
    {
     "name": "stdout",
     "output_type": "stream",
     "text": [
      " \n",
      "        MERGE (o:wd_node {id: 'Q5', title: 'human'}) RETURN o\n",
      "    \n",
      "subject: human(Q5) was added\n",
      " \n",
      "        MERGE (o:wd_node {id: 'Q5', title: 'human'}) RETURN o\n",
      "    \n",
      "subject: human(Q5) was added\n",
      " \n",
      "        MERGE (o:wd_node {id: 'Q5', title: 'human'}) RETURN o\n",
      "    \n",
      "subject: human(Q5) was added\n",
      " \n",
      "        MERGE (o:wd_node {id: 'Q5', title: 'human'}) RETURN o\n",
      "    \n",
      "subject: human(Q5) was added\n",
      " \n",
      "        MERGE (o:wd_node {id: 'Q729', title: 'animal'}) RETURN o\n",
      "    \n",
      "subject: animal(Q729) was added\n",
      " \n",
      "        MERGE (o:wd_node {id: 'Q7239', title: 'organism'}) RETURN o\n",
      "    \n",
      "subject: organism(Q7239) was added\n",
      "[error]: 'linkTo'\n",
      " \n",
      "        MERGE (o:wd_node {id: 'Q35120', title: 'entity'}) RETURN o\n",
      "    \n",
      "subject: entity(Q35120) was added\n",
      " \n",
      "        MERGE (o:wd_node {id: 'Q72638', title: 'consumer'}) RETURN o\n",
      "    \n",
      "subject: consumer(Q72638) was added\n",
      " \n",
      "        MERGE (o:wd_node {id: 'Q72638', title: 'consumer'}) RETURN o\n",
      "    \n",
      "subject: consumer(Q72638) was added\n",
      " \n",
      "        MERGE (o:wd_node {id: 'Q154954', title: 'natural person'}) RETURN o\n",
      "    \n",
      "subject: natural person(Q154954) was added\n",
      " \n",
      "        MERGE (o:wd_node {id: 'Q159344', title: 'heterotroph'}) RETURN o\n",
      "    \n",
      "subject: heterotroph(Q159344) was added\n",
      " \n",
      "        MERGE (o:wd_node {id: 'Q164509', title: 'omnivore'}) RETURN o\n",
      "    \n",
      "subject: omnivore(Q164509) was added\n",
      " \n",
      "        MERGE (o:wd_node {id: 'Q164509', title: 'omnivore'}) RETURN o\n",
      "    \n",
      "subject: omnivore(Q164509) was added\n",
      " \n",
      "        MERGE (o:wd_node {id: 'Q215627', title: 'person'}) RETURN o\n",
      "    \n",
      "subject: person(Q215627) was added\n",
      " \n",
      "        MERGE (o:wd_node {id: 'Q215627', title: 'person'}) RETURN o\n",
      "    \n",
      "subject: person(Q215627) was added\n",
      " \n",
      "        MERGE (o:wd_node {id: 'Q215627', title: 'person'}) RETURN o\n",
      "    \n",
      "subject: person(Q215627) was added\n",
      " \n",
      "        MERGE (o:wd_node {id: 'Q488383', title: 'object'}) RETURN o\n",
      "    \n",
      "subject: object(Q488383) was added\n",
      " \n",
      "        MERGE (o:wd_node {id: 'Q795052', title: 'individual'}) RETURN o\n",
      "    \n",
      "subject: individual(Q795052) was added\n",
      " \n",
      "        MERGE (o:wd_node {id: 'Q830077', title: 'subject'}) RETURN o\n",
      "    \n",
      "subject: subject(Q830077) was added\n",
      " \n",
      "        MERGE (o:wd_node {id: 'Q3778211', title: 'legal person'}) RETURN o\n",
      "    \n",
      "subject: legal person(Q3778211) was added\n",
      " \n",
      "        MERGE (o:wd_node {id: 'Q23958946', title: 'individual entity'}) RETURN o\n",
      "    \n",
      "subject: individual entity(Q23958946) was added\n",
      " \n",
      "        MERGE (o:wd_node {id: 'Q24229398', title: 'agent'}) RETURN o\n",
      "    \n",
      "subject: agent(Q24229398) was added\n",
      " \n",
      "        MERGE (o:wd_node {id: 'Q27043950', title: 'anatomical entity'}) RETURN o\n",
      "    \n",
      "subject: anatomical entity(Q27043950) was added\n",
      " \n",
      "        MERGE (o:wd_node {id: 'Q27043950', title: 'anatomical entity'}) RETURN o\n",
      "    \n",
      "subject: anatomical entity(Q27043950) was added\n",
      " \n",
      "        MERGE (o:wd_node {id: 'Q29651224', title: 'natural object'}) RETURN o\n",
      "    \n",
      "subject: natural object(Q29651224) was added\n",
      " \n",
      "        MERGE (o:wd_node {id: 'Q53617489', title: 'independent continuant'}) RETURN o\n",
      "    \n",
      "subject: independent continuant(Q53617489) was added\n",
      " \n",
      "        MERGE (o:wd_node {id: 'Q103940464', title: 'continuant'}) RETURN o\n",
      "    \n",
      "subject: continuant(Q103940464) was added\n",
      " \n",
      "        MERGE (o:wd_node {id: 'Q106559804', title: 'person or organization'}) RETURN o\n",
      "    \n",
      "subject: person or organization(Q106559804) was added\n",
      " \n",
      "        MERGE (o:wd_node {id: 'Q110551885', title: 'mammal'}) RETURN o\n",
      "    \n",
      "subject: mammal(Q110551885) was added\n",
      " \n",
      "        MERGE (o:wd_node {id: 'Q110551902', title: 'vertebrate'}) RETURN o\n",
      "    \n",
      "subject: vertebrate(Q110551902) was added\n"
     ]
    }
   ],
   "source": [
    "for i in res:\n",
    "    subject_id = uri_id(i['item']['value'])\n",
    "    subject_title = i['itemLabel']['value']\n",
    "    try:\n",
    "        object_id = uri_id(i['linkTo']['value'])\n",
    "    except Exception as e:\n",
    "        print(f'[error]: {e}')\n",
    "        object_id = None\n",
    "    relation = 'subclass_of'\n",
    "\n",
    "    \n",
    "    neo4j_merge = f\"\"\" \n",
    "        MERGE (o:wd_node {{id: '{subject_id}', title: '{subject_title}'}}) RETURN o\n",
    "    \"\"\"\n",
    "    # print(neo4j_merge)\n",
    "    graph.run(neo4j_merge)\n",
    "    # print(f\"subject: {subject_title}({subject_id}) was added\")\n"
   ]
  },
  {
   "attachments": {},
   "cell_type": "markdown",
   "metadata": {},
   "source": [
    "#### create relations"
   ]
  },
  {
   "cell_type": "code",
   "execution_count": 51,
   "metadata": {},
   "outputs": [
    {
     "name": "stdout",
     "output_type": "stream",
     "text": [
      "\n",
      "        MATCH (s:wd_node {id: 'Q5'})\n",
      "        MATCH (o:wd_node {id: 'Q154954'})\n",
      "        MERGE (s)-[:subclass_of]->(o) RETURN s, o\n",
      "    \n",
      "\n",
      "        MATCH (s:wd_node {id: 'Q5'})\n",
      "        MATCH (o:wd_node {id: 'Q164509'})\n",
      "        MERGE (s)-[:subclass_of]->(o) RETURN s, o\n",
      "    \n",
      "\n",
      "        MATCH (s:wd_node {id: 'Q5'})\n",
      "        MATCH (o:wd_node {id: 'Q215627'})\n",
      "        MERGE (s)-[:subclass_of]->(o) RETURN s, o\n",
      "    \n",
      "\n",
      "        MATCH (s:wd_node {id: 'Q5'})\n",
      "        MATCH (o:wd_node {id: 'Q110551885'})\n",
      "        MERGE (s)-[:subclass_of]->(o) RETURN s, o\n",
      "    \n",
      "\n",
      "        MATCH (s:wd_node {id: 'Q729'})\n",
      "        MATCH (o:wd_node {id: 'Q7239'})\n",
      "        MERGE (s)-[:subclass_of]->(o) RETURN s, o\n",
      "    \n",
      "\n",
      "        MATCH (s:wd_node {id: 'Q7239'})\n",
      "        MATCH (o:wd_node {id: 'Q27043950'})\n",
      "        MERGE (s)-[:subclass_of]->(o) RETURN s, o\n",
      "    \n",
      "[error]: 'linkTo'\n",
      "\n",
      "        MATCH (s:wd_node {id: 'Q72638'})\n",
      "        MATCH (o:wd_node {id: 'Q7239'})\n",
      "        MERGE (s)-[:subclass_of]->(o) RETURN s, o\n",
      "    \n",
      "\n",
      "        MATCH (s:wd_node {id: 'Q72638'})\n",
      "        MATCH (o:wd_node {id: 'Q159344'})\n",
      "        MERGE (s)-[:subclass_of]->(o) RETURN s, o\n",
      "    \n",
      "\n",
      "        MATCH (s:wd_node {id: 'Q154954'})\n",
      "        MATCH (o:wd_node {id: 'Q3778211'})\n",
      "        MERGE (s)-[:subclass_of]->(o) RETURN s, o\n",
      "    \n",
      "\n",
      "        MATCH (s:wd_node {id: 'Q159344'})\n",
      "        MATCH (o:wd_node {id: 'Q7239'})\n",
      "        MERGE (s)-[:subclass_of]->(o) RETURN s, o\n",
      "    \n",
      "\n",
      "        MATCH (s:wd_node {id: 'Q164509'})\n",
      "        MATCH (o:wd_node {id: 'Q729'})\n",
      "        MERGE (s)-[:subclass_of]->(o) RETURN s, o\n",
      "    \n",
      "\n",
      "        MATCH (s:wd_node {id: 'Q164509'})\n",
      "        MATCH (o:wd_node {id: 'Q72638'})\n",
      "        MERGE (s)-[:subclass_of]->(o) RETURN s, o\n",
      "    \n",
      "\n",
      "        MATCH (s:wd_node {id: 'Q215627'})\n",
      "        MATCH (o:wd_node {id: 'Q795052'})\n",
      "        MERGE (s)-[:subclass_of]->(o) RETURN s, o\n",
      "    \n",
      "\n",
      "        MATCH (s:wd_node {id: 'Q215627'})\n",
      "        MATCH (o:wd_node {id: 'Q3778211'})\n",
      "        MERGE (s)-[:subclass_of]->(o) RETURN s, o\n",
      "    \n",
      "\n",
      "        MATCH (s:wd_node {id: 'Q215627'})\n",
      "        MATCH (o:wd_node {id: 'Q106559804'})\n",
      "        MERGE (s)-[:subclass_of]->(o) RETURN s, o\n",
      "    \n",
      "\n",
      "        MATCH (s:wd_node {id: 'Q488383'})\n",
      "        MATCH (o:wd_node {id: 'Q35120'})\n",
      "        MERGE (s)-[:subclass_of]->(o) RETURN s, o\n",
      "    \n",
      "\n",
      "        MATCH (s:wd_node {id: 'Q795052'})\n",
      "        MATCH (o:wd_node {id: 'Q23958946'})\n",
      "        MERGE (s)-[:subclass_of]->(o) RETURN s, o\n",
      "    \n",
      "\n",
      "        MATCH (s:wd_node {id: 'Q830077'})\n",
      "        MATCH (o:wd_node {id: 'Q103940464'})\n",
      "        MERGE (s)-[:subclass_of]->(o) RETURN s, o\n",
      "    \n",
      "\n",
      "        MATCH (s:wd_node {id: 'Q3778211'})\n",
      "        MATCH (o:wd_node {id: 'Q24229398'})\n",
      "        MERGE (s)-[:subclass_of]->(o) RETURN s, o\n",
      "    \n",
      "\n",
      "        MATCH (s:wd_node {id: 'Q23958946'})\n",
      "        MATCH (o:wd_node {id: 'Q35120'})\n",
      "        MERGE (s)-[:subclass_of]->(o) RETURN s, o\n",
      "    \n",
      "\n",
      "        MATCH (s:wd_node {id: 'Q24229398'})\n",
      "        MATCH (o:wd_node {id: 'Q830077'})\n",
      "        MERGE (s)-[:subclass_of]->(o) RETURN s, o\n",
      "    \n",
      "\n",
      "        MATCH (s:wd_node {id: 'Q27043950'})\n",
      "        MATCH (o:wd_node {id: 'Q29651224'})\n",
      "        MERGE (s)-[:subclass_of]->(o) RETURN s, o\n",
      "    \n",
      "\n",
      "        MATCH (s:wd_node {id: 'Q27043950'})\n",
      "        MATCH (o:wd_node {id: 'Q53617489'})\n",
      "        MERGE (s)-[:subclass_of]->(o) RETURN s, o\n",
      "    \n",
      "\n",
      "        MATCH (s:wd_node {id: 'Q29651224'})\n",
      "        MATCH (o:wd_node {id: 'Q488383'})\n",
      "        MERGE (s)-[:subclass_of]->(o) RETURN s, o\n",
      "    \n",
      "\n",
      "        MATCH (s:wd_node {id: 'Q53617489'})\n",
      "        MATCH (o:wd_node {id: 'Q103940464'})\n",
      "        MERGE (s)-[:subclass_of]->(o) RETURN s, o\n",
      "    \n",
      "\n",
      "        MATCH (s:wd_node {id: 'Q103940464'})\n",
      "        MATCH (o:wd_node {id: 'Q23958946'})\n",
      "        MERGE (s)-[:subclass_of]->(o) RETURN s, o\n",
      "    \n",
      "\n",
      "        MATCH (s:wd_node {id: 'Q106559804'})\n",
      "        MATCH (o:wd_node {id: 'Q24229398'})\n",
      "        MERGE (s)-[:subclass_of]->(o) RETURN s, o\n",
      "    \n",
      "\n",
      "        MATCH (s:wd_node {id: 'Q110551885'})\n",
      "        MATCH (o:wd_node {id: 'Q110551902'})\n",
      "        MERGE (s)-[:subclass_of]->(o) RETURN s, o\n",
      "    \n",
      "\n",
      "        MATCH (s:wd_node {id: 'Q110551902'})\n",
      "        MATCH (o:wd_node {id: 'Q729'})\n",
      "        MERGE (s)-[:subclass_of]->(o) RETURN s, o\n",
      "    \n"
     ]
    }
   ],
   "source": [
    "for i in res:\n",
    "    subject_id = uri_id(i['item']['value'])\n",
    "    subject_title = i['itemLabel']['value']\n",
    "    try:\n",
    "        object_id = uri_id(i['linkTo']['value'])\n",
    "    except Exception as e:\n",
    "        print(f'[error]: {e}')\n",
    "        object_id = None\n",
    "        continue # don't create relation if there is no object\n",
    "    relation = 'subclass_of'\n",
    "\n",
    "    \n",
    "    neo4j_merge = f\"\"\"\n",
    "        MATCH (s:wd_node {{id: '{subject_id}'}})\n",
    "        MATCH (o:wd_node {{id: '{object_id}'}})\n",
    "        MERGE (s)-[:subclass_of]->(o) RETURN s, o\n",
    "    \"\"\"\n",
    "    # print(neo4j_merge)\n",
    "    graph.run(neo4j_merge)"
   ]
  },
  {
   "cell_type": "code",
   "execution_count": null,
   "metadata": {},
   "outputs": [],
   "source": []
  },
  {
   "cell_type": "code",
   "execution_count": null,
   "metadata": {},
   "outputs": [],
   "source": []
  }
 ],
 "metadata": {
  "kernelspec": {
   "display_name": "Python 3",
   "language": "python",
   "name": "python3"
  },
  "language_info": {
   "codemirror_mode": {
    "name": "ipython",
    "version": 3
   },
   "file_extension": ".py",
   "mimetype": "text/x-python",
   "name": "python",
   "nbconvert_exporter": "python",
   "pygments_lexer": "ipython3",
   "version": "3.10.6"
  },
  "orig_nbformat": 4,
  "vscode": {
   "interpreter": {
    "hash": "916dbcbb3f70747c44a77c7bcd40155683ae19c65e1c03b4aa3499c5328201f1"
   }
  }
 },
 "nbformat": 4,
 "nbformat_minor": 2
}
