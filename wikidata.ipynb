{
 "cells": [
  {
   "cell_type": "code",
   "execution_count": 6,
   "metadata": {},
   "outputs": [],
   "source": [
    "from wikidata.client import Client"
   ]
  },
  {
   "cell_type": "code",
   "execution_count": 7,
   "metadata": {},
   "outputs": [],
   "source": [
    "client = Client()"
   ]
  },
  {
   "cell_type": "code",
   "execution_count": 13,
   "metadata": {},
   "outputs": [],
   "source": [
    "entity = client.get('Q4778914', load=True)# get hive database entity"
   ]
  },
  {
   "cell_type": "code",
   "execution_count": 59,
   "metadata": {},
   "outputs": [
    {
     "data": {
      "text/plain": [
       "m'database engine'"
      ]
     },
     "execution_count": 59,
     "metadata": {},
     "output_type": "execute_result"
    }
   ],
   "source": [
    "entity.description"
   ]
  },
  {
   "cell_type": "code",
   "execution_count": null,
   "metadata": {},
   "outputs": [],
   "source": []
  },
  {
   "cell_type": "code",
   "execution_count": 39,
   "metadata": {},
   "outputs": [],
   "source": [
    "# import wikidata as wd\n",
    "import requests\n",
    "import json"
   ]
  },
  {
   "cell_type": "code",
   "execution_count": 21,
   "metadata": {},
   "outputs": [],
   "source": [
    "response = requests.get('https://api.github.com')"
   ]
  },
  {
   "cell_type": "code",
   "execution_count": 32,
   "metadata": {},
   "outputs": [],
   "source": [
    "# response.json()"
   ]
  },
  {
   "cell_type": "code",
   "execution_count": 33,
   "metadata": {},
   "outputs": [],
   "source": [
    "url = 'https://www.wikidata.org/w/api.php?action=query&list=search&srsearch=hive&format=json'"
   ]
  },
  {
   "cell_type": "code",
   "execution_count": 34,
   "metadata": {},
   "outputs": [],
   "source": [
    "response = requests.get(url)"
   ]
  },
  {
   "cell_type": "code",
   "execution_count": 42,
   "metadata": {},
   "outputs": [],
   "source": [
    "jsn = response.json()\n",
    "# response.status_code\n",
    "# response.content"
   ]
  },
  {
   "cell_type": "code",
   "execution_count": 56,
   "metadata": {},
   "outputs": [
    {
     "data": {
      "text/plain": [
       "10"
      ]
     },
     "execution_count": 56,
     "metadata": {},
     "output_type": "execute_result"
    }
   ],
   "source": [
    "search_results = jsn['query']['search']\n",
    "len(search_results)"
   ]
  },
  {
   "cell_type": "code",
   "execution_count": 58,
   "metadata": {},
   "outputs": [
    {
     "data": {
      "text/plain": [
       "[{'ns': 0,\n",
       "  'title': 'Q4778914',\n",
       "  'pageid': 4566487,\n",
       "  'size': None,\n",
       "  'wordcount': 0,\n",
       "  'snippet': 'database engine',\n",
       "  'timestamp': '2023-01-31T20:05:30Z'},\n",
       " {'ns': 0,\n",
       "  'title': 'Q1399188',\n",
       "  'pageid': 1338251,\n",
       "  'size': None,\n",
       "  'wordcount': 0,\n",
       "  'snippet': 'strategic board game',\n",
       "  'timestamp': '2023-02-05T06:44:15Z'},\n",
       " {'ns': 0,\n",
       "  'title': 'Q96644758',\n",
       "  'pageid': 95214766,\n",
       "  'size': None,\n",
       "  'wordcount': 0,\n",
       "  'snippet': 'Japanese subsidiary of the South Korean smartphone game developer company Vespa',\n",
       "  'timestamp': '2021-04-10T06:22:29Z'},\n",
       " {'ns': 0,\n",
       "  'title': 'Q104882831',\n",
       "  'pageid': 100294947,\n",
       "  'size': None,\n",
       "  'wordcount': 0,\n",
       "  'snippet': '2021 film directed by Blerta Basholli',\n",
       "  'timestamp': '2023-01-07T18:03:42Z'},\n",
       " {'ns': 0,\n",
       "  'title': 'Q20649761',\n",
       "  'pageid': 22396951,\n",
       "  'size': None,\n",
       "  'wordcount': 0,\n",
       "  'snippet': '2014 film directed by David Yarovesky',\n",
       "  'timestamp': '2022-11-27T13:45:45Z'},\n",
       " {'ns': 0,\n",
       "  'title': 'Q28324915',\n",
       "  'pageid': 30022467,\n",
       "  'size': None,\n",
       "  'wordcount': 0,\n",
       "  'snippet': 'British smart home equipment provider',\n",
       "  'timestamp': '2022-12-06T01:34:49Z'},\n",
       " {'ns': 0,\n",
       "  'title': 'Q3785970',\n",
       "  'pageid': 3610005,\n",
       "  'size': None,\n",
       "  'wordcount': 0,\n",
       "  'snippet': 'Inhuman from the Marvel Comics',\n",
       "  'timestamp': '2021-08-20T10:33:29Z'},\n",
       " {'ns': 0,\n",
       "  'title': 'Q69558854',\n",
       "  'pageid': 69222873,\n",
       "  'size': None,\n",
       "  'wordcount': 0,\n",
       "  'snippet': 'weekly periodical (Lancaster, Pa. : Will Honeycomb, 1810.)',\n",
       "  'timestamp': '2020-02-13T00:47:15Z'},\n",
       " {'ns': 0,\n",
       "  'title': 'Q17150258',\n",
       "  'pageid': 18743706,\n",
       "  'size': None,\n",
       "  'wordcount': 0,\n",
       "  'snippet': '2013 single by Earl Sweatshirt',\n",
       "  'timestamp': '2021-03-18T22:15:38Z'},\n",
       " {'ns': 0,\n",
       "  'title': 'Q106824605',\n",
       "  'pageid': 102091824,\n",
       "  'size': None,\n",
       "  'wordcount': 0,\n",
       "  'snippet': 'Minecraft server',\n",
       "  'timestamp': '2022-12-07T08:58:03Z'}]"
      ]
     },
     "execution_count": 58,
     "metadata": {},
     "output_type": "execute_result"
    }
   ],
   "source": [
    "search_results"
   ]
  },
  {
   "cell_type": "code",
   "execution_count": 57,
   "metadata": {
    "colab": {},
    "colab_type": "code",
    "id": "adScMnkb-sgc"
   },
   "outputs": [
    {
     "name": "stdout",
     "output_type": "stream",
     "text": [
      "database engine\n",
      "strategic board game\n",
      "Japanese subsidiary of the South Korean smartphone game developer company Vespa\n"
     ]
    }
   ],
   "source": [
    "\n",
    "for e in search_results[0:3]:\n",
    "    print(e['snippet'])"
   ]
  },
  {
   "cell_type": "code",
   "execution_count": null,
   "metadata": {},
   "outputs": [],
   "source": []
  },
  {
   "cell_type": "code",
   "execution_count": null,
   "metadata": {},
   "outputs": [],
   "source": []
  },
  {
   "cell_type": "code",
   "execution_count": null,
   "metadata": {},
   "outputs": [],
   "source": []
  },
  {
   "cell_type": "code",
   "execution_count": null,
   "metadata": {},
   "outputs": [],
   "source": []
  }
 ],
 "metadata": {
  "kernelspec": {
   "display_name": "Python 3",
   "language": "python",
   "name": "python3"
  },
  "language_info": {
   "codemirror_mode": {
    "name": "ipython",
    "version": 3
   },
   "file_extension": ".py",
   "mimetype": "text/x-python",
   "name": "python",
   "nbconvert_exporter": "python",
   "pygments_lexer": "ipython3",
   "version": "3.10.6"
  },
  "orig_nbformat": 4,
  "vscode": {
   "interpreter": {
    "hash": "916dbcbb3f70747c44a77c7bcd40155683ae19c65e1c03b4aa3499c5328201f1"
   }
  }
 },
 "nbformat": 4,
 "nbformat_minor": 2
}
